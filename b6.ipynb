{
  "nbformat": 4,
  "nbformat_minor": 0,
  "metadata": {
    "colab": {
      "name": "b6.ipynb",
      "provenance": [],
      "authorship_tag": "ABX9TyPyVtDPDGoKl1afkSXvrxtO",
      "include_colab_link": true
    },
    "kernelspec": {
      "name": "python3",
      "display_name": "Python 3"
    },
    "language_info": {
      "name": "python"
    }
  },
  "cells": [
    {
      "cell_type": "markdown",
      "metadata": {
        "id": "view-in-github",
        "colab_type": "text"
      },
      "source": [
        "<a href=\"https://colab.research.google.com/github/daovda/Python_report/blob/main/b6.ipynb\" target=\"_parent\"><img src=\"https://colab.research.google.com/assets/colab-badge.svg\" alt=\"Open In Colab\"/></a>"
      ]
    },
    {
      "cell_type": "code",
      "execution_count": 1,
      "metadata": {
        "colab": {
          "base_uri": "https://localhost:8080/"
        },
        "id": "8kBsY3nVjBxq",
        "outputId": "205e3f0d-2f1f-4d8b-e8fb-79369d17269a"
      },
      "outputs": [
        {
          "output_type": "stream",
          "name": "stdout",
          "text": [
            "정수 x를 입력하시오: 1\n",
            "정수 y를 입력하시오: 2\n",
            "3\n"
          ]
        }
      ],
      "source": [
        "x = 0\n",
        "y = 0\n",
        "x = int(input(\"정수 x를 입력하시오: \"))\n",
        "y = int(input(\"정수 y를 입력하시오: \"))\n",
        "sum = x + y\n",
        "print(sum)"
      ]
    }
  ]
}