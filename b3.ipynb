{
  "nbformat": 4,
  "nbformat_minor": 0,
  "metadata": {
    "colab": {
      "name": "b3.ipynb",
      "provenance": [],
      "authorship_tag": "ABX9TyOgfwV4GCvzqFQ3a8Ra6oPo",
      "include_colab_link": true
    },
    "kernelspec": {
      "name": "python3",
      "display_name": "Python 3"
    },
    "language_info": {
      "name": "python"
    }
  },
  "cells": [
    {
      "cell_type": "markdown",
      "metadata": {
        "id": "view-in-github",
        "colab_type": "text"
      },
      "source": [
        "<a href=\"https://colab.research.google.com/github/daovda/Python_report/blob/main/b3.ipynb\" target=\"_parent\"><img src=\"https://colab.research.google.com/assets/colab-badge.svg\" alt=\"Open In Colab\"/></a>"
      ]
    },
    {
      "cell_type": "code",
      "execution_count": 1,
      "metadata": {
        "colab": {
          "base_uri": "https://localhost:8080/"
        },
        "id": "i_wNRU2ZfzFY",
        "outputId": "31e91f46-0489-4523-a0fe-b3a74e5f020c"
      },
      "outputs": [
        {
          "output_type": "stream",
          "name": "stdout",
          "text": [
            "87500\n",
            "일을 한 전체 시간입력하세요!: 5\n",
            "43750\n"
          ]
        }
      ],
      "source": [
        "a = 10\n",
        "b = 8750\n",
        "c = a * b\n",
        "print(c)\n",
        "pay_rate = 8750\n",
        "hours_worked = int(input(\"일을 한 전체 시간입력하세요!: \" ))\n",
        "monthly_pay = hours_worked * pay_rate\n",
        "print(monthly_pay)"
      ]
    }
  ]
}