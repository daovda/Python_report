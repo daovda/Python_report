{
  "nbformat": 4,
  "nbformat_minor": 0,
  "metadata": {
    "colab": {
      "name": "b3.ipynb",
      "provenance": [],
      "authorship_tag": "ABX9TyPwbHQmExMlDkjX1aGtsKq8",
      "include_colab_link": true
    },
    "kernelspec": {
      "name": "python3",
      "display_name": "Python 3"
    },
    "language_info": {
      "name": "python"
    }
  },
  "cells": [
    {
      "cell_type": "markdown",
      "metadata": {
        "id": "view-in-github",
        "colab_type": "text"
      },
      "source": [
        "<a href=\"https://colab.research.google.com/github/daovda/Python_report/blob/main/b3.ipynb\" target=\"_parent\"><img src=\"https://colab.research.google.com/assets/colab-badge.svg\" alt=\"Open In Colab\"/></a>"
      ]
    },
    {
      "cell_type": "code",
      "execution_count": 1,
      "metadata": {
        "colab": {
          "base_uri": "https://localhost:8080/"
        },
        "id": "i_wNRU2ZfzFY",
        "outputId": "afb8c72b-24ef-4989-d547-1b50d664970b"
      },
      "outputs": [
        {
          "output_type": "stream",
          "name": "stdout",
          "text": [
            "87500\n"
          ]
        }
      ],
      "source": [
        "a = 10\n",
        "b = 8750\n",
        "c = a * b\n",
        "print(c)"
      ]
    }
  ]
}