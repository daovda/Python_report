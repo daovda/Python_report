{
  "nbformat": 4,
  "nbformat_minor": 0,
  "metadata": {
    "colab": {
      "name": "b1.ipynb",
      "provenance": [],
      "authorship_tag": "ABX9TyNhuMnM106ov7PxC7Tnm5bU",
      "include_colab_link": true
    },
    "kernelspec": {
      "name": "python3",
      "display_name": "Python 3"
    },
    "language_info": {
      "name": "python"
    }
  },
  "cells": [
    {
      "cell_type": "markdown",
      "metadata": {
        "id": "view-in-github",
        "colab_type": "text"
      },
      "source": [
        "<a href=\"https://colab.research.google.com/github/daovda/Python_report/blob/main/b1.ipynb\" target=\"_parent\"><img src=\"https://colab.research.google.com/assets/colab-badge.svg\" alt=\"Open In Colab\"/></a>"
      ]
    },
    {
      "cell_type": "code",
      "execution_count": 12,
      "metadata": {
        "colab": {
          "base_uri": "https://localhost:8080/"
        },
        "id": "iz8_ZTcYdz6q",
        "outputId": "76dfaefd-a5aa-4f0c-bd4b-b250c765b398"
      },
      "outputs": [
        {
          "output_type": "stream",
          "name": "stdout",
          "text": [
            "Enter grade: 10\n",
            "Enter grade: 20\n",
            "Enter grade: 30\n",
            "Enter grade: 40\n",
            "Enter grade: 50\n",
            "Enter grade: 60\n",
            "Enter grade: 70\n",
            "Enter grade: 80\n",
            "Enter grade: 90\n",
            "Enter grade: 100\n",
            "55.0\n"
          ]
        }
      ],
      "source": [
        "total = 0\n",
        "counter = 1\n",
        "while counter <= 10:\n",
        "  grade = int(input (\"Enter grade: \"))\n",
        "  total = grade + total\n",
        "  counter = counter + 1\n",
        "average = total / 10\n",
        "print(average)"
      ]
    }
  ]
}