{
  "nbformat": 4,
  "nbformat_minor": 0,
  "metadata": {
    "colab": {
      "name": "a3.ipynb",
      "provenance": [],
      "authorship_tag": "ABX9TyMzq5aFIVyxKtWSlJpDt6KE",
      "include_colab_link": true
    },
    "kernelspec": {
      "name": "python3",
      "display_name": "Python 3"
    },
    "language_info": {
      "name": "python"
    }
  },
  "cells": [
    {
      "cell_type": "markdown",
      "metadata": {
        "id": "view-in-github",
        "colab_type": "text"
      },
      "source": [
        "<a href=\"https://colab.research.google.com/github/daovda/Python_report/blob/main/a3.ipynb\" target=\"_parent\"><img src=\"https://colab.research.google.com/assets/colab-badge.svg\" alt=\"Open In Colab\"/></a>"
      ]
    },
    {
      "cell_type": "code",
      "execution_count": 2,
      "metadata": {
        "colab": {
          "base_uri": "https://localhost:8080/"
        },
        "id": "XKejMZgWb_B0",
        "outputId": "205dbf98-3d33-4332-e9f6-c363e158cdcf"
      },
      "outputs": [
        {
          "output_type": "stream",
          "name": "stdout",
          "text": [
            "a의 값을 입력하세요: 10\n",
            "b의 값을 입력하세요: 30\n",
            "c의 값을 입력하세요: 20\n",
            "x1 =  -100.0\n",
            "x2 =  -200.0\n"
          ]
        }
      ],
      "source": [
        "import math\n",
        "# 근의공식 구하기\n",
        "a = int(input(\"a의 값을 입력하세요: \"))\n",
        "b = int(input(\"b의 값을 입력하세요: \"))\n",
        "c = int(input(\"c의 값을 입력하세요: \"))\n",
        "\n",
        "\n",
        "x1 = ( (-b + (math.sqrt(math.pow(b,2) - 4 * a * c)))/2 * a)\n",
        "x2 = ( (-b - (math.sqrt(math.pow(b,2) - 4 * a * c)))/2 * a)\n",
        "\n",
        "print(\"x1 = \" , x1)\n",
        "print(\"x2 = \" , x2)\n"
      ]
    }
  ]
}