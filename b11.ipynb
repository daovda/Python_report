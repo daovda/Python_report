{
  "nbformat": 4,
  "nbformat_minor": 0,
  "metadata": {
    "colab": {
      "name": "b11.ipynb",
      "provenance": [],
      "authorship_tag": "ABX9TyOiAJBT53Gd9kaLJf9qT7gc",
      "include_colab_link": true
    },
    "kernelspec": {
      "name": "python3",
      "display_name": "Python 3"
    },
    "language_info": {
      "name": "python"
    }
  },
  "cells": [
    {
      "cell_type": "markdown",
      "metadata": {
        "id": "view-in-github",
        "colab_type": "text"
      },
      "source": [
        "<a href=\"https://colab.research.google.com/github/daovda/Python_report/blob/main/b11.ipynb\" target=\"_parent\"><img src=\"https://colab.research.google.com/assets/colab-badge.svg\" alt=\"Open In Colab\"/></a>"
      ]
    },
    {
      "cell_type": "code",
      "execution_count": 1,
      "metadata": {
        "colab": {
          "base_uri": "https://localhost:8080/"
        },
        "id": "HF6PBUMHlAUc",
        "outputId": "829ce56f-c2b5-48fc-ee72-2ceef376fa17"
      },
      "outputs": [
        {
          "output_type": "stream",
          "name": "stdout",
          "text": [
            "근무 시간을 입력하시오\n",
            "근무시간 입력: 45\n",
            "정상근무하셨습니다.\n"
          ]
        }
      ],
      "source": [
        "print(\"근무 시간을 입력하시오\")\n",
        "work_hour=int(input(\"근무시간 입력: \"))\n",
        "\n",
        "\n",
        "if work_hour > 72 :\n",
        "  print(\"초과근무 하셨습니다.\")\n",
        "else: \n",
        "  print(\"정상근무하셨습니다.\")\n"
      ]
    }
  ]
}